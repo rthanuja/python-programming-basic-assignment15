{
 "cells": [
  {
   "cell_type": "code",
   "execution_count": 1,
   "id": "e1625160",
   "metadata": {},
   "outputs": [
    {
     "name": "stdout",
     "output_type": "stream",
     "text": [
      "enter the number100\n",
      "0,35,70\n"
     ]
    }
   ],
   "source": [
    "'''Please write a program using generator to print the numbers which can be divisible by 5 and 7 between 0 and n in comma \n",
    "separated form while n is input by console.'''\n",
    "def gennum(n):\n",
    "    for i in range(n+1):\n",
    "        if i%5==0 and i%7==0:\n",
    "            yield i\n",
    "n=int(input(\"enter the number\"))\n",
    "l=list(gennum(n))\n",
    "for i in range(len(l)):\n",
    "    if i==len(l)-1:\n",
    "        print(l[i])\n",
    "    else:\n",
    "        print(l[i],end=\",\")\n",
    "        "
   ]
  },
  {
   "cell_type": "code",
   "execution_count": 2,
   "id": "c024683b",
   "metadata": {},
   "outputs": [
    {
     "name": "stdout",
     "output_type": "stream",
     "text": [
      "enter the number26\n",
      "0,2,4,6,8,10,12,14,16,18,20,22,24,26\n"
     ]
    }
   ],
   "source": [
    "'''Please write a program using generator to print the even numbers between 0 and n in comma separated form while n is input by\n",
    "console.'''\n",
    "def evenno(n):\n",
    "    for i in range(n+1):\n",
    "        if i%2==0:\n",
    "            yield i\n",
    "n=int(input(\"enter the number\"))\n",
    "l=list(evenno(n))\n",
    "for i in range(len(l)):\n",
    "    if i==len(l)-1:\n",
    "        print(l[i])\n",
    "    else:\n",
    "        print(l[i],end=\",\")"
   ]
  },
  {
   "cell_type": "code",
   "execution_count": 3,
   "id": "23fc0618",
   "metadata": {},
   "outputs": [
    {
     "name": "stdout",
     "output_type": "stream",
     "text": [
      "enter the no. of terms in fibonacci 10\n",
      "0,1,1,2,3,5,8,13,21,34,55\n"
     ]
    }
   ],
   "source": [
    "'''Please write a program using list comprehension to print the Fibonacci Sequence in comma separated form with a given\n",
    "n input by console.'''\n",
    "l=[0,1]\n",
    "n=int(input(\"enter the no. of terms in fibonacci \"))\n",
    "for i in range(n+1):\n",
    "    if i==0 or i==1:\n",
    "        print(l[i],end=\",\")\n",
    "    else:\n",
    "        if i==n:\n",
    "            l.append(l[i-1]+l[i-2])\n",
    "            print(l[i])\n",
    "        else:\n",
    "            l.append(l[i-1]+l[i-2])\n",
    "            print(l[i],end=\",\")\n",
    "    \n",
    "    "
   ]
  },
  {
   "cell_type": "code",
   "execution_count": 4,
   "id": "0198934f",
   "metadata": {},
   "outputs": [
    {
     "name": "stdout",
     "output_type": "stream",
     "text": [
      "enter email address: john@google.com\n",
      "john\n"
     ]
    }
   ],
   "source": [
    "'''Assuming that we have some email addresses in the 'username@companyname.com' format,please write program to print the \n",
    "user name of a given email address. Both user names and company names are composed of letters only.'''\n",
    "n=input(\"enter email address: \")\n",
    "l=n.split(\"@\")\n",
    "print(l[0])"
   ]
  },
  {
   "cell_type": "code",
   "execution_count": 5,
   "id": "253a1979",
   "metadata": {},
   "outputs": [],
   "source": [
    "\"\"\"Define a class named Shape and its subclass Square. The Square class has an init function which takes a length as argument. \n",
    "Both classes have a area function which can print the area of the shape where Shape's area is 0 by default.\"\"\"\n",
    "class Shape:\n",
    "    def __init__(self):\n",
    "        pass\n",
    "    def area(self):\n",
    "        return 0\n",
    "class Square(Shape):\n",
    "    def __init__(self,length):\n",
    "        super().__init__()\n",
    "        self.length=length\n",
    "    def area(self):\n",
    "        a=self.length**2\n",
    "        return a\n",
    "        \n"
   ]
  },
  {
   "cell_type": "code",
   "execution_count": 6,
   "id": "9f4dfa83",
   "metadata": {},
   "outputs": [
    {
     "data": {
      "text/plain": [
       "49"
      ]
     },
     "execution_count": 6,
     "metadata": {},
     "output_type": "execute_result"
    }
   ],
   "source": [
    "b=Square(7)\n",
    "b.area()"
   ]
  }
 ],
 "metadata": {
  "kernelspec": {
   "display_name": "Python 3 (ipykernel)",
   "language": "python",
   "name": "python3"
  },
  "language_info": {
   "codemirror_mode": {
    "name": "ipython",
    "version": 3
   },
   "file_extension": ".py",
   "mimetype": "text/x-python",
   "name": "python",
   "nbconvert_exporter": "python",
   "pygments_lexer": "ipython3",
   "version": "3.10.9"
  }
 },
 "nbformat": 4,
 "nbformat_minor": 5
}
